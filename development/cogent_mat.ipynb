{
 "cells": [
  {
   "cell_type": "code",
   "execution_count": 1,
   "metadata": {},
   "outputs": [],
   "source": [
    "import glob, os, sys, re\n",
    "import scipy.io\n",
    "import numpy as np\n",
    "import pandas as pd"
   ]
  },
  {
   "cell_type": "code",
   "execution_count": 3,
   "metadata": {},
   "outputs": [
    {
     "name": "stdout",
     "output_type": "stream",
     "text": [
      "Found 3 .mat files\n"
     ]
    }
   ],
   "source": [
    "# directory with .mat files\n",
    "mat_dir = '/Users/matty_gee/Desktop/SNT_3T_error/Logs/Tests/01.17.23'\n",
    "mat_files = glob.glob(f'{mat_dir}/*.mat')\n",
    "print('Found %d .mat files' % len(mat_files))"
   ]
  },
  {
   "cell_type": "code",
   "execution_count": 10,
   "metadata": {},
   "outputs": [
    {
     "name": "stdout",
     "output_type": "stream",
     "text": [
      "[[array([[29]], dtype=uint8)]\n",
      " [array([[30]], dtype=uint8)]\n",
      " [array([[29]], dtype=uint8)]\n",
      " [array([[29]], dtype=uint8)]\n",
      " [array([[29]], dtype=uint8)]\n",
      " [array([[30]], dtype=uint8)]\n",
      " [array([[30]], dtype=uint8)]\n",
      " [array([[30]], dtype=uint8)]\n",
      " [array([[29]], dtype=uint8)]\n",
      " [array([[29]], dtype=uint8)]\n",
      " [array([[29]], dtype=uint8)]\n",
      " [array([[29]], dtype=uint8)]\n",
      " [array([[29]], dtype=uint8)]\n",
      " [array([[29]], dtype=uint8)]\n",
      " [array([[29]], dtype=uint8)]\n",
      " [array([[29]], dtype=uint8)]\n",
      " [array([[30]], dtype=uint8)]\n",
      " [array([[30]], dtype=uint8)]\n",
      " [array([[29]], dtype=uint8)]\n",
      " [array([[29]], dtype=uint8)]\n",
      " [array([[30],\n",
      "         [29]], dtype=uint8)]\n",
      " [array([[29]], dtype=uint8)]\n",
      " [array([[29]], dtype=uint8)]\n",
      " [array([[30]], dtype=uint8)]\n",
      " [array([[29]], dtype=uint8)]\n",
      " [array([[29]], dtype=uint8)]\n",
      " [array([[29]], dtype=uint8)]\n",
      " [array([[30]], dtype=uint8)]\n",
      " [array([[29]], dtype=uint8)]\n",
      " [array([[30]], dtype=uint8)]\n",
      " [array([[29]], dtype=uint8)]\n",
      " [array([[29]], dtype=uint8)]\n",
      " [array([[30]], dtype=uint8)]\n",
      " [array([[29]], dtype=uint8)]\n",
      " [array([[30]], dtype=uint8)]\n",
      " [array([[30]], dtype=uint8)]\n",
      " [array([[29]], dtype=uint8)]\n",
      " [array([[30]], dtype=uint8)]\n",
      " [array([[30]], dtype=uint8)]\n",
      " [array([[29]], dtype=uint8)]\n",
      " [array([[30]], dtype=uint8)]\n",
      " [array([[29]], dtype=uint8)]\n",
      " [array([[29]], dtype=uint8)]\n",
      " [array([[29]], dtype=uint8)]\n",
      " [array([[29]], dtype=uint8)]\n",
      " [array([[30]], dtype=uint8)]\n",
      " [array([[29]], dtype=uint8)]\n",
      " [array([[29]], dtype=uint8)]\n",
      " [array([[30]], dtype=uint8)]\n",
      " [array([[29],\n",
      "         [30]], dtype=uint8)]\n",
      " [array([[30]], dtype=uint8)]\n",
      " [array([[29]], dtype=uint8)]\n",
      " [array([[30]], dtype=uint8)]\n",
      " [array([[29]], dtype=uint8)]\n",
      " [array([[29]], dtype=uint8)]\n",
      " [array([[29]], dtype=uint8)]\n",
      " [array([[29]], dtype=uint8)]\n",
      " [array([[29]], dtype=uint8)]\n",
      " [array([[29]], dtype=uint8)]\n",
      " [array([[29]], dtype=uint8)]\n",
      " [array([[29]], dtype=uint8)]\n",
      " [array([[29]], dtype=uint8)]\n",
      " [array([[30]], dtype=uint8)]]\n"
     ]
    }
   ],
   "source": [
    "mat_file = f'{mat_dir}/SocialSpace_01-17-23_buttonbox_v3.mat'\n",
    "mat = scipy.io.loadmat(mat_file)\n",
    "responses = mat['responses'].T\n",
    "print(responses)"
   ]
  },
  {
   "cell_type": "code",
   "execution_count": null,
   "metadata": {},
   "outputs": [],
   "source": []
  }
 ],
 "metadata": {
  "kernelspec": {
   "display_name": "social_navigation_analysis",
   "language": "python",
   "name": "python3"
  },
  "language_info": {
   "codemirror_mode": {
    "name": "ipython",
    "version": 3
   },
   "file_extension": ".py",
   "mimetype": "text/x-python",
   "name": "python",
   "nbconvert_exporter": "python",
   "pygments_lexer": "ipython3",
   "version": "3.10.6"
  },
  "orig_nbformat": 4,
  "vscode": {
   "interpreter": {
    "hash": "f3f7fb9d13e0b7cd346c5bcfe5de21908f17a2d0dcbd7821a2fa8e4fbf9948e1"
   }
  }
 },
 "nbformat": 4,
 "nbformat_minor": 2
}
